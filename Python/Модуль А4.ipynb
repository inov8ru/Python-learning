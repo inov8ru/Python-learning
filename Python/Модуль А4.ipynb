{
 "cells": [
  {
   "cell_type": "markdown",
   "source": [
    "Проверка года на високосность"
   ],
   "metadata": {}
  },
  {
   "cell_type": "code",
   "execution_count": 3,
   "source": [
    "year = 2016\r\n",
    "\r\n",
    "if year % 4 == 0 and year % 100 != 0 or year % 400 == 0:\r\n",
    "    print ('Да')\r\n",
    "else:\r\n",
    "    print ('Нет')\r\n"
   ],
   "outputs": [
    {
     "output_type": "stream",
     "name": "stdout",
     "text": [
      "Да\n"
     ]
    }
   ],
   "metadata": {}
  },
  {
   "cell_type": "code",
   "execution_count": 5,
   "source": [
    "from datetime import datetime, timedelta\r\n",
    "date_string = '05.05.2019 21:00'\r\n",
    "dt = datetime.strptime(date_string, '%d.%m.%Y %H:%M')\r\n",
    "print (dt)\r\n",
    "print (type(dt))\r\n",
    "print (dt.hour)\r\n",
    "print (dt.month)\r\n",
    "\r\n"
   ],
   "outputs": [
    {
     "output_type": "stream",
     "name": "stdout",
     "text": [
      "2019-05-05 21:00:00\n",
      "<class 'datetime.datetime'>\n",
      "21\n",
      "5\n"
     ]
    }
   ],
   "metadata": {}
  },
  {
   "cell_type": "markdown",
   "source": [
    "Задание 4.12.2\r\n",
    "Дан список запуска отчета по расписанию:\r\n",
    "\r\n",
    "dt_list = ['2019-07-07T18:59:06', '2019-07-07T19:00:02', '2019-07-07T19:01:04']\r\n",
    "\r\n",
    "Переведите эти значения из строк в формат datetime и запишите результат в переменную datetime_list, т. е. в переменной datetime_list должен быть список элементов вида datetime(2019, 7, 7, 18, 59, 6)."
   ],
   "metadata": {}
  },
  {
   "cell_type": "code",
   "execution_count": 1,
   "source": [
    "from datetime import datetime\r\n",
    "date_string = '2019-07-07T18:59:33'\r\n",
    "dt = datetime.strptime(date_string[:10],'%Y-%m-%d')\r\n",
    "date_format = datetime.strftime(dt, '%d.%m.%Y')\r\n",
    "print (date_format)\r\n",
    "print (type(date_format))"
   ],
   "outputs": [
    {
     "output_type": "stream",
     "name": "stdout",
     "text": [
      "07.07.2019\n",
      "<class 'str'>\n"
     ]
    }
   ],
   "metadata": {}
  },
  {
   "cell_type": "code",
   "execution_count": 4,
   "source": [
    "from datetime import datetime\r\n",
    "dt_list = ['2019-07-07T18:59:06', '2019-07-07T19:00:02', '2019-07-07T19:01:04']\r\n",
    "datetime_list = []\r\n",
    "# datetime_list = datetime(2019, 7, 7, 18, 59, 6)\r\n",
    "dt = datetime.strptime(dt_list[0], '%Y-%m-%dT%H:%M:%S')\r\n",
    "print (dt)\r\n",
    "datetime_list.append(dt)\r\n",
    "print (datetime_list[0])\r\n",
    "print (type(datetime_list[0]))\r\n"
   ],
   "outputs": [
    {
     "output_type": "stream",
     "name": "stdout",
     "text": [
      "2019-07-07 18:59:06\n",
      "2019-07-07 18:59:06\n",
      "<class 'datetime.datetime'>\n"
     ]
    }
   ],
   "metadata": {}
  },
  {
   "cell_type": "code",
   "execution_count": 2,
   "source": [
    "from datetime import datetime\r\n",
    "datetime_list = [\r\n",
    "    datetime(2019, 7, 7, 18, 59, 6),\r\n",
    "    datetime(2019, 7, 7, 19, 0, 2),\r\n",
    "    datetime(2019, 7, 7, 19, 1, 4)\r\n",
    "]\r\n",
    "print (datetime_list[0])\r\n",
    "print (type(datetime_list[0]))\r\n"
   ],
   "outputs": [
    {
     "output_type": "stream",
     "name": "stdout",
     "text": [
      "2019-07-07 18:59:06\n",
      "<class 'datetime.datetime'>\n"
     ]
    }
   ],
   "metadata": {}
  },
  {
   "cell_type": "code",
   "execution_count": 10,
   "source": [
    "from datetime import datetime\r\n",
    "dt_list = ['2019-07-07T18:59:06', '2019-07-07T19:00:02', '2019-07-07T19:01:04']\r\n",
    "datetime_list = []\r\n",
    "for dt in dt_list:\r\n",
    "    datetime_list.append(datetime.strptime(dt, '%Y-%m-%dT%H:%M:%S'))\r\n",
    "print (datetime_list[0])\r\n",
    "print (type(datetime_list[0]))\r\n",
    "print (datetime_list[0]-datetime_list[1])\r\n",
    "\r\n"
   ],
   "outputs": [
    {
     "output_type": "stream",
     "name": "stdout",
     "text": [
      "2019-07-07 18:59:06\n",
      "<class 'datetime.datetime'>\n",
      "-1 day, 23:59:04\n"
     ]
    }
   ],
   "metadata": {}
  },
  {
   "cell_type": "markdown",
   "source": [
    "Задание 4.12.3\r\n",
    "В прошлом задании у вас получился список datetime_list с элементами типа datetime.\r\n",
    "\r\n",
    "Наш отчет запускался каждую минуту в 18:59:00, 19:00:00 и 19:01:00. Посчитайте для каждого элемента количество секунд, которое работал скрипт. Результат запишите в список report_seconds (каждый элемент, соответственно, целое число)."
   ],
   "metadata": {}
  },
  {
   "cell_type": "code",
   "execution_count": null,
   "source": [],
   "outputs": [],
   "metadata": {}
  }
 ],
 "metadata": {
  "kernelspec": {
   "name": "python3",
   "display_name": "Python 3.8.5 64-bit ('base': conda)"
  },
  "language_info": {
   "codemirror_mode": {
    "name": "ipython",
    "version": 3
   },
   "file_extension": ".py",
   "mimetype": "text/x-python",
   "name": "python",
   "nbconvert_exporter": "python",
   "pygments_lexer": "ipython3",
   "version": "3.8.5"
  },
  "interpreter": {
   "hash": "4c34ecf23d8b809894172fcb74a868dd9383070e4edacee6c05dce94e98c2e65"
  }
 },
 "nbformat": 4,
 "nbformat_minor": 2
}