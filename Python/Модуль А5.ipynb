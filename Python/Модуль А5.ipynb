{
 "cells": [
  {
   "cell_type": "markdown",
   "source": [
    "Задание 5.2.2\r\n",
    "\r\n",
    "Исправьте этот код: дополните функцию sum_2, чтобы она принимала аргументы x и y, а потом возвращала их сумму. Затем вызовите sum_2 для 42 и 73 и выведите на экран полученный результат.\r\n",
    "\r\n",
    "def sum_2(_, _):\r\n",
    "    result = ...\r\n",
    "    return result"
   ],
   "metadata": {}
  },
  {
   "cell_type": "code",
   "execution_count": 1,
   "source": [
    "# Дополните аргументы и код функции\r\n",
    "def sum_2(x, y):\r\n",
    "    result = x+y\r\n",
    "    return result\r\n",
    "print (sum_2(42, 73))"
   ],
   "outputs": [
    {
     "output_type": "stream",
     "name": "stdout",
     "text": [
      "115\n"
     ]
    }
   ],
   "metadata": {}
  },
  {
   "cell_type": "markdown",
   "source": [
    "Задание 5.2.3\r\n",
    "\r\n",
    "Напишите функцию power, которая возводит первый аргумент в степень второго аргумента. Например, power(2, 3) должен вернуть 8, а power(4, 2) - 16."
   ],
   "metadata": {}
  },
  {
   "cell_type": "code",
   "execution_count": 3,
   "source": [
    "def power(x, y):\r\n",
    "    result = x**y\r\n",
    "    return result\r\n",
    "print (power(4, 2))\r\n"
   ],
   "outputs": [
    {
     "output_type": "stream",
     "name": "stdout",
     "text": [
      "16\n"
     ]
    }
   ],
   "metadata": {}
  },
  {
   "cell_type": "markdown",
   "source": [
    "Задание 5.3.1\r\n",
    "\r\n",
    "Постройте функцию get_median, которая принимает на вход список чисел и возвращает медиану, например, для этого списка.\r\n",
    "\r\n",
    "get_median([5, 2, 1, 3, 4]) должен вернуть 3\r\n",
    "get_median([3, 3, 7, 9]) должен вернуть 5"
   ],
   "metadata": {}
  },
  {
   "cell_type": "code",
   "execution_count": 10,
   "source": [
    "def get_median(x):\r\n",
    "    x = sorted(x)\r\n",
    "    if len(x)%2 == 1:\r\n",
    "        return x[int(len(x)/2)]\r\n",
    "    else:\r\n",
    "        return 0.5 * (x[int(len(x)/2 - 1)] + x[int(len(x)/2)])\r\n",
    "print (get_median([5, 2, 1, 3, 4]))\r\n",
    "print (get_median([3, 3, 7, 9]))"
   ],
   "outputs": [
    {
     "output_type": "stream",
     "name": "stdout",
     "text": [
      "3\n",
      "5.0\n"
     ]
    }
   ],
   "metadata": {}
  },
  {
   "cell_type": "markdown",
   "source": [
    "Задание 5.4.1\r\n",
    "Перепишите код ниже, определив функцию avg_orders(user_db), которая возвращает среднее число заказов по данным в базе. Затем выведите на экран результат вызова этой функции для user_db."
   ],
   "metadata": {}
  },
  {
   "cell_type": "code",
   "execution_count": 11,
   "source": [
    "user_db = [{'orders': 12}, {'orders': 30}, {'orders': 45}]\r\n",
    "\r\n",
    "# перепишите эту часть\r\n",
    "# order_sum = sum([user['orders'] for user in user_db])\r\n",
    "# orders_per_user = order_sum/len(user_db)\r\n",
    "# print(orders_per_user)\r\n",
    "\r\n",
    "def avg_orders(user_db):\r\n",
    "    return (sum(user['orders'] for user in user_db)/len(user_db))\r\n",
    "print (avg_orders(user_db))"
   ],
   "outputs": [
    {
     "output_type": "stream",
     "name": "stdout",
     "text": [
      "29.0\n"
     ]
    }
   ],
   "metadata": {}
  },
  {
   "cell_type": "markdown",
   "source": [
    "Задание 5.4.2\r\n",
    "Определите функцию get_euro_rate, которая возвращает случайное число от 65 до 85. Перепишите to_euro из примера выше, чтобы вместо постоянного exchange_rate 70 она использовала get_euro_rate.\r\n",
    "\r\n",
    "Для выполнения задания вам необходимо применить функцию randint.\r\n",
    "\r\n",
    "Функция randint(A, B) очень похожа на уже знакомую вам функцию random. Её особенность состоит в том, что вы можете указать случайное целое число N, где A ≤ N ≤ B.\r\n",
    "\r\n",
    "from random import random\r\n",
    "print(random())\r\n",
    "# => 0.8594880558993951"
   ],
   "metadata": {}
  },
  {
   "cell_type": "code",
   "execution_count": 13,
   "source": [
    "# добавьте функцию get_euro_rate\r\n",
    "def get_euro_rate():\r\n",
    "    from random import randint\r\n",
    "    return randint(65, 85)\r\n",
    "\r\n",
    "# используйте get_euro_rate в следующей функции\r\n",
    "def to_euro(price):  \r\n",
    "    exchange_rate = get_euro_rate\r\n",
    "    rounded = round(price/exchange_rate, 2)  \r\n",
    "    return '€' + str(rounded)\r\n"
   ],
   "outputs": [],
   "metadata": {}
  },
  {
   "cell_type": "code",
   "execution_count": 14,
   "source": [
    "word_sizes = list(map(len, [\"all\", \"you\", \"need\", \"is\", \"map\"]))\r\n",
    "print (word_sizes)"
   ],
   "outputs": [
    {
     "output_type": "stream",
     "name": "stdout",
     "text": [
      "[3, 3, 4, 2, 3]\n"
     ]
    }
   ],
   "metadata": {}
  },
  {
   "cell_type": "markdown",
   "source": [
    "Задание 5.9.2\r\n",
    "При анализе данных бывает полезно «подвинуть» числа так, чтобы среднее значение было нулевым: так удобнее анализировать их распределение.\r\n",
    "\r\n",
    "Напишите выражение c map, которое из каждого элемента values вычитает среднее значение mean. Результирующий список положите в переменную result."
   ],
   "metadata": {}
  },
  {
   "cell_type": "code",
   "execution_count": 1,
   "source": [
    "values = [4, 8, 15, 16, 23, 42]\r\n",
    "mean = 18\r\n",
    "\r\n",
    "result = list(map(lambda x: x-mean, values))\r\n",
    "print (result)"
   ],
   "outputs": [
    {
     "output_type": "stream",
     "name": "stdout",
     "text": [
      "[-14, -10, -3, -2, 5, 24]\n"
     ]
    }
   ],
   "metadata": {}
  }
 ],
 "metadata": {
  "kernelspec": {
   "name": "python3",
   "display_name": "Python 3.8.5 64-bit ('base': conda)"
  },
  "language_info": {
   "codemirror_mode": {
    "name": "ipython",
    "version": 3
   },
   "file_extension": ".py",
   "mimetype": "text/x-python",
   "name": "python",
   "nbconvert_exporter": "python",
   "pygments_lexer": "ipython3",
   "version": "3.8.5"
  },
  "interpreter": {
   "hash": "4c34ecf23d8b809894172fcb74a868dd9383070e4edacee6c05dce94e98c2e65"
  }
 },
 "nbformat": 4,
 "nbformat_minor": 2
}